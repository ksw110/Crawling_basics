{
 "cells": [
  {
   "cell_type": "code",
   "execution_count": 1,
   "id": "e186aa05",
   "metadata": {
    "ExecuteTime": {
     "end_time": "2022-12-19T02:27:48.040500Z",
     "start_time": "2022-12-19T02:27:47.358714Z"
    }
   },
   "outputs": [],
   "source": [
    "# 도구 불러오기\n",
    "import pandas as pd\n",
    "import time # 실행에 대한 딜레이를 주기 위한 라이브러리\n",
    "from selenium import webdriver as wb\n",
    "from selenium.webdriver.common.by import By"
   ]
  },
  {
   "cell_type": "code",
   "execution_count": 2,
   "id": "da3d2774",
   "metadata": {
    "ExecuteTime": {
     "end_time": "2022-12-19T02:27:49.952500Z",
     "start_time": "2022-12-19T02:27:48.042131Z"
    }
   },
   "outputs": [],
   "source": [
    "# url 정의\n",
    "url = \"https://www.hsd.co.kr/menu/menu_list\"\n",
    "\n",
    "# 크롬브라우저\n",
    "driver = wb.Chrome()\n",
    "driver.get(url)"
   ]
  },
  {
   "cell_type": "markdown",
   "id": "d5fb0b69",
   "metadata": {},
   "source": [
    "1. '더보기' html요소 접근하기\n",
    "2. '더보기' 요소 클릭한다.(while)\n",
    "3. 클릭을 완료했을 때 모든 메뉴정보가 브라우저에 출력되어야한다.\n",
    "4. 메뉴명, 가격정보를 수집한다.\n",
    "5. 메뉴명, 가격정보의 텍스트 내용만 가져온 후 리스트에 저장한다.\n",
    "6. 각 리스트를 이용하여 딕셔너리로 정리 -> DataFrame으로 생성한다."
   ]
  },
  {
   "cell_type": "markdown",
   "id": "b4f55288",
   "metadata": {},
   "source": [
    "### 더보기 html요소 접근하기"
   ]
  },
  {
   "cell_type": "code",
   "execution_count": 3,
   "id": "6f30cbad",
   "metadata": {
    "ExecuteTime": {
     "end_time": "2022-12-19T02:27:49.997683Z",
     "start_time": "2022-12-19T02:27:49.954490Z"
    }
   },
   "outputs": [],
   "source": [
    "driver.find_element(By.CSS_SELECTOR, value = '#btn_more>span').click()"
   ]
  },
  {
   "cell_type": "markdown",
   "id": "5ac041b7",
   "metadata": {},
   "source": [
    "#### 클릭을 완료했을 때 모든 메뉴정보가 브라우저에 출력되어야한다."
   ]
  },
  {
   "cell_type": "markdown",
   "id": "0aadd15a",
   "metadata": {},
   "source": [
    "### 3. 클릭을 완료했을 때 모든 메뉴정보가 브라우저에 출력되어야한다."
   ]
  },
  {
   "cell_type": "code",
   "execution_count": 6,
   "id": "98b1a069",
   "metadata": {
    "ExecuteTime": {
     "end_time": "2022-12-19T02:29:15.019307Z",
     "start_time": "2022-12-19T02:29:13.974870Z"
    },
    "scrolled": true
   },
   "outputs": [
    {
     "name": "stdout",
     "output_type": "stream",
     "text": [
      "더 보기 클릭 완료!\n"
     ]
    }
   ],
   "source": [
    "# 2~3 : 예외처리(try~except문법)\n",
    "try:\n",
    "    while True:\n",
    "        driver.find_element(By.CSS_SELECTOR, value = '#btn_more>span').click()\n",
    "        # 클릭한 후 1초 뒤에 동작\n",
    "        # -> 네트워크 속도에 따라서 컨텐츠가 보여지는 로딩 시간이 다름\n",
    "        time.sleep(1)\n",
    "except:\n",
    "    print(\"더 보기 클릭 완료!\")"
   ]
  },
  {
   "cell_type": "code",
   "execution_count": 24,
   "id": "5a9159e4",
   "metadata": {
    "ExecuteTime": {
     "end_time": "2022-12-19T03:06:12.978066Z",
     "start_time": "2022-12-19T03:06:12.949380Z"
    }
   },
   "outputs": [
    {
     "name": "stdout",
     "output_type": "stream",
     "text": [
      "91\n",
      "91\n"
     ]
    }
   ],
   "source": [
    "print(len(name))\n",
    "print(len(price))\n",
    "price = driver.find_elements(By.CSS_SELECTOR, value ='.blind+strong')\n",
    "name = driver.find_elements(By.CSS_SELECTOR, value ='.h.fz_03')"
   ]
  },
  {
   "cell_type": "code",
   "execution_count": 25,
   "id": "e38c45e7",
   "metadata": {
    "ExecuteTime": {
     "end_time": "2022-12-19T03:06:16.408286Z",
     "start_time": "2022-12-19T03:06:14.892032Z"
    }
   },
   "outputs": [],
   "source": [
    "menu_name = []\n",
    "menu_price = []\n",
    "for i in range(len(name)):\n",
    "    menu_name.append(name[i].text)\n",
    "    menu_price.append(price[i].text)"
   ]
  },
  {
   "cell_type": "code",
   "execution_count": 26,
   "id": "58db86c7",
   "metadata": {
    "ExecuteTime": {
     "end_time": "2022-12-19T03:06:16.558915Z",
     "start_time": "2022-12-19T03:06:16.547942Z"
    }
   },
   "outputs": [
    {
     "data": {
      "text/html": [
       "<div>\n",
       "<style scoped>\n",
       "    .dataframe tbody tr th:only-of-type {\n",
       "        vertical-align: middle;\n",
       "    }\n",
       "\n",
       "    .dataframe tbody tr th {\n",
       "        vertical-align: top;\n",
       "    }\n",
       "\n",
       "    .dataframe thead th {\n",
       "        text-align: right;\n",
       "    }\n",
       "</style>\n",
       "<table border=\"1\" class=\"dataframe\">\n",
       "  <thead>\n",
       "    <tr style=\"text-align: right;\">\n",
       "      <th></th>\n",
       "      <th>메뉴명</th>\n",
       "      <th>가격</th>\n",
       "    </tr>\n",
       "  </thead>\n",
       "  <tbody>\n",
       "    <tr>\n",
       "      <th>0</th>\n",
       "      <td>[반찬] 사골 우거지 곰탕</td>\n",
       "      <td>4,900</td>\n",
       "    </tr>\n",
       "    <tr>\n",
       "      <th>1</th>\n",
       "      <td>[착한도시락] 참치야채 감초고추장 사골 우거지 곰탕 정식</td>\n",
       "      <td>7,500</td>\n",
       "    </tr>\n",
       "    <tr>\n",
       "      <th>2</th>\n",
       "      <td>[착한도시락] 빅치킨마요 사골 우거지 곰탕 정식</td>\n",
       "      <td>7,900</td>\n",
       "    </tr>\n",
       "    <tr>\n",
       "      <th>3</th>\n",
       "      <td>[착한도시락] 제육 사골 우거지 곰탕 정식</td>\n",
       "      <td>8,900</td>\n",
       "    </tr>\n",
       "    <tr>\n",
       "      <th>4</th>\n",
       "      <td>[착한도시락] 사골 우거지 곰탕</td>\n",
       "      <td>6,500</td>\n",
       "    </tr>\n",
       "    <tr>\n",
       "      <th>...</th>\n",
       "      <td>...</td>\n",
       "      <td>...</td>\n",
       "    </tr>\n",
       "    <tr>\n",
       "      <th>86</th>\n",
       "      <td>무말랭이 무침</td>\n",
       "      <td>400</td>\n",
       "    </tr>\n",
       "    <tr>\n",
       "      <th>87</th>\n",
       "      <td>한솥밥</td>\n",
       "      <td>1,000</td>\n",
       "    </tr>\n",
       "    <tr>\n",
       "      <th>88</th>\n",
       "      <td>현미밥</td>\n",
       "      <td>1,700</td>\n",
       "    </tr>\n",
       "    <tr>\n",
       "      <th>89</th>\n",
       "      <td>리얼 티라미수 찰떡</td>\n",
       "      <td>1,500</td>\n",
       "    </tr>\n",
       "    <tr>\n",
       "      <th>90</th>\n",
       "      <td>리얼꿀 미니호떡</td>\n",
       "      <td>2,200</td>\n",
       "    </tr>\n",
       "  </tbody>\n",
       "</table>\n",
       "<p>91 rows × 2 columns</p>\n",
       "</div>"
      ],
      "text/plain": [
       "                                메뉴명     가격\n",
       "0                    [반찬] 사골 우거지 곰탕  4,900\n",
       "1   [착한도시락] 참치야채 감초고추장 사골 우거지 곰탕 정식  7,500\n",
       "2        [착한도시락] 빅치킨마요 사골 우거지 곰탕 정식  7,900\n",
       "3           [착한도시락] 제육 사골 우거지 곰탕 정식  8,900\n",
       "4                 [착한도시락] 사골 우거지 곰탕  6,500\n",
       "..                              ...    ...\n",
       "86                          무말랭이 무침    400\n",
       "87                              한솥밥  1,000\n",
       "88                              현미밥  1,700\n",
       "89                       리얼 티라미수 찰떡  1,500\n",
       "90                         리얼꿀 미니호떡  2,200\n",
       "\n",
       "[91 rows x 2 columns]"
      ]
     },
     "execution_count": 26,
     "metadata": {},
     "output_type": "execute_result"
    }
   ],
   "source": [
    "data = {'메뉴명':menu_name,'가격':menu_price}\n",
    "menu_df = pd.DataFrame(data)\n",
    "menu_df"
   ]
  },
  {
   "cell_type": "code",
   "execution_count": 61,
   "id": "e75286d3",
   "metadata": {
    "ExecuteTime": {
     "end_time": "2022-12-19T03:29:31.819354Z",
     "start_time": "2022-12-19T03:29:31.813369Z"
    }
   },
   "outputs": [
    {
     "data": {
      "text/plain": [
       "0     4900\n",
       "1     7500\n",
       "2     7900\n",
       "3     8900\n",
       "4     6500\n",
       "      ... \n",
       "86     400\n",
       "87    1000\n",
       "88    1700\n",
       "89    1500\n",
       "90    2200\n",
       "Name: 가격, Length: 91, dtype: int64"
      ]
     },
     "execution_count": 61,
     "metadata": {},
     "output_type": "execute_result"
    }
   ],
   "source": [
    "# 한솥 전체 메뉴 중에서 5000원 이하인 메뉴는 몇개 있을까?\n",
    "# 그 메뉴들의 이름은 뭘까?\n",
    "# 1. 콤마를 제거한 후 가격 컬럼 데이터 타입 숫자로 변환\n",
    "# 컬럼 인덱싱하는 방법\n",
    "# ['컬럼명'], df.loc[:,'컬럼명'], df.iloc[:,컬럼인덱스]\n",
    "menu_df['가격'] = menu_df.loc[:,'가격'].str.replace(',','').astype('int64')\n"
   ]
  },
  {
   "cell_type": "code",
   "execution_count": 72,
   "id": "29bf5241",
   "metadata": {
    "ExecuteTime": {
     "end_time": "2022-12-19T03:40:40.350626Z",
     "start_time": "2022-12-19T03:40:40.341649Z"
    }
   },
   "outputs": [
    {
     "name": "stdout",
     "output_type": "stream",
     "text": [
      "52\n"
     ]
    },
    {
     "data": {
      "text/plain": [
       "0        [반찬] 사골 우거지 곰탕\n",
       "21          칠리 찹쌀탕수육도련님\n",
       "23                 치킨제육\n",
       "24               돈까스도련님\n",
       "25                 제육볶음\n",
       "26             돈치스팸 도시락\n",
       "35                 스팸마요\n",
       "37                왕치킨마요\n",
       "38                빅치킨마요\n",
       "39                 치킨마요\n",
       "40                 참치마요\n",
       "41                 돈치마요\n",
       "42               돈까스 카레\n",
       "43             스팸 김치볶음밥\n",
       "44                김치볶음밥\n",
       "45              스팸철판볶음밥\n",
       "46           소불고기 철판볶음밥\n",
       "48             묵은지 김치찌개\n",
       "51              마파두부 덮밥\n",
       "53             새우돈까스 덮밥\n",
       "54               돈까스 덮밥\n",
       "56       시골제육 두부강된장 비빔밥\n",
       "57           참치야채 감초고추장\n",
       "58                튼튼도시락\n",
       "61           토마토 미트 파스타\n",
       "62              반찬 계란말이\n",
       "63           반찬 묵은지김치찌개\n",
       "64                반찬 카레\n",
       "65           반찬 김치 부대찌개\n",
       "66                반찬 치킨\n",
       "67              반찬 고기고기\n",
       "68           반찬 돈까스 도련님\n",
       "69              반찬 제육볶음\n",
       "70          반찬 토네이도 소세지\n",
       "71             반찬 반달돈까스\n",
       "72              뉴 감자고로케\n",
       "73             미니 찹쌀핫도그\n",
       "74             미니 찹쌀탕수육\n",
       "75               케이준후라이\n",
       "77    후라이드 순살(소)_양념치킨소스\n",
       "78     후라이드 순살(소)_케이준소스\n",
       "80          오리지널 닭강정(소)\n",
       "81                오징어젓갈\n",
       "82           한솥 두부강된장소스\n",
       "83         한솥 감초볶음고추장소스\n",
       "84                 볶음김치\n",
       "85                   김치\n",
       "86              무말랭이 무침\n",
       "87                  한솥밥\n",
       "88                  현미밥\n",
       "89           리얼 티라미수 찰떡\n",
       "90             리얼꿀 미니호떡\n",
       "Name: 메뉴명, dtype: object"
      ]
     },
     "execution_count": 72,
     "metadata": {},
     "output_type": "execute_result"
    }
   ],
   "source": [
    "print(len(menu_df[menu_df['가격'] <= 5000]))\n",
    "menu_df[menu_df['가격'] <= 5000].shape[0]\n",
    "menu_df[menu_df['가격'] <= 5000]['메뉴명']"
   ]
  },
  {
   "cell_type": "code",
   "execution_count": null,
   "id": "922c9b56",
   "metadata": {},
   "outputs": [],
   "source": []
  },
  {
   "cell_type": "code",
   "execution_count": null,
   "id": "d2bf17e1",
   "metadata": {},
   "outputs": [],
   "source": []
  },
  {
   "cell_type": "code",
   "execution_count": null,
   "id": "a2dea31a",
   "metadata": {},
   "outputs": [],
   "source": []
  }
 ],
 "metadata": {
  "kernelspec": {
   "display_name": "Python 3 (ipykernel)",
   "language": "python",
   "name": "python3"
  },
  "language_info": {
   "codemirror_mode": {
    "name": "ipython",
    "version": 3
   },
   "file_extension": ".py",
   "mimetype": "text/x-python",
   "name": "python",
   "nbconvert_exporter": "python",
   "pygments_lexer": "ipython3",
   "version": "3.9.13"
  },
  "toc": {
   "base_numbering": 1,
   "nav_menu": {},
   "number_sections": true,
   "sideBar": true,
   "skip_h1_title": false,
   "title_cell": "Table of Contents",
   "title_sidebar": "Contents",
   "toc_cell": false,
   "toc_position": {},
   "toc_section_display": true,
   "toc_window_display": false
  }
 },
 "nbformat": 4,
 "nbformat_minor": 5
}
