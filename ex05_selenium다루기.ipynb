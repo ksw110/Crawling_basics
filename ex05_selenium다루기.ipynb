{
 "cells": [
  {
   "cell_type": "markdown",
   "id": "f6319893",
   "metadata": {},
   "source": [
    "### requests, BeautifulSoup 만 사용했을때의 한계\n",
    " - \"자바스크립트로 동적으로 생성된 정보는 가져올 수 없다는것\""
   ]
  },
  {
   "cell_type": "markdown",
   "id": "c276d169",
   "metadata": {},
   "source": [
    "### Selenium\n",
    " : 동적인 페이지를 제어하고 내용을 가져오기 위한 라이브러리\n",
    " : 웹 자동화 테스트 도구\n",
    " : 브라우저 제어 - 키보드입력, 클릭, 스크롤, 이전 페이지이동, 등등\n",
    " \n",
    "#### Selenium의 필요성\n",
    " - 1. 자바스크립트가 동적으로 만든 데이터를 크롤링 하기\n",
    " - 2. 사이트의 다양한 html 요소에 클릭, 키보드 입력 등 이벤트 주기, 데이터도 추출할 수 있음\n",
    " \n",
    "#### 사용하기 위한 환경 구축\n",
    " - 1. 셀레니움 라이브러리 설치\n",
    " - 2. webdriver 파일 설치 -> 현재 크롤링 폴더에 저장\n",
    " - 웹 드라이버를 설치할 때, 크롬 버전과 동일해야함\n",
    " - 버전확인방법 : 크롬 브라우저 설정> 크롬 정보 메뉴 > 버전 확인"
   ]
  },
  {
   "cell_type": "code",
   "execution_count": 1,
   "id": "ab94c5eb",
   "metadata": {
    "ExecuteTime": {
     "end_time": "2022-12-19T00:15:58.386843Z",
     "start_time": "2022-12-19T00:15:53.548120Z"
    },
    "collapsed": true
   },
   "outputs": [
    {
     "name": "stdout",
     "output_type": "stream",
     "text": [
      "Collecting selenium\n",
      "  Downloading selenium-4.7.2-py3-none-any.whl (6.3 MB)\n",
      "     ---------------------------------------- 6.3/6.3 MB 21.2 MB/s eta 0:00:00\n",
      "Collecting trio-websocket~=0.9\n",
      "  Downloading trio_websocket-0.9.2-py3-none-any.whl (16 kB)\n",
      "Collecting trio~=0.17\n",
      "  Downloading trio-0.22.0-py3-none-any.whl (384 kB)\n",
      "     ---------------------------------------- 384.9/384.9 kB ? eta 0:00:00\n",
      "Requirement already satisfied: certifi>=2021.10.8 in c:\\users\\smhrd\\anaconda3\\lib\\site-packages (from selenium) (2022.9.14)\n",
      "Requirement already satisfied: urllib3[socks]~=1.26 in c:\\users\\smhrd\\anaconda3\\lib\\site-packages (from selenium) (1.26.11)\n",
      "Requirement already satisfied: attrs>=19.2.0 in c:\\users\\smhrd\\anaconda3\\lib\\site-packages (from trio~=0.17->selenium) (21.4.0)\n",
      "Collecting async-generator>=1.9\n",
      "  Downloading async_generator-1.10-py3-none-any.whl (18 kB)\n",
      "Requirement already satisfied: sortedcontainers in c:\\users\\smhrd\\anaconda3\\lib\\site-packages (from trio~=0.17->selenium) (2.4.0)\n",
      "Requirement already satisfied: cffi>=1.14 in c:\\users\\smhrd\\anaconda3\\lib\\site-packages (from trio~=0.17->selenium) (1.15.1)\n",
      "Collecting outcome\n",
      "  Downloading outcome-1.2.0-py2.py3-none-any.whl (9.7 kB)\n",
      "Requirement already satisfied: sniffio in c:\\users\\smhrd\\anaconda3\\lib\\site-packages (from trio~=0.17->selenium) (1.2.0)\n",
      "Requirement already satisfied: idna in c:\\users\\smhrd\\anaconda3\\lib\\site-packages (from trio~=0.17->selenium) (3.3)\n",
      "Collecting exceptiongroup>=1.0.0rc9\n",
      "  Downloading exceptiongroup-1.0.4-py3-none-any.whl (14 kB)\n",
      "Collecting wsproto>=0.14\n",
      "  Downloading wsproto-1.2.0-py3-none-any.whl (24 kB)\n",
      "Requirement already satisfied: PySocks!=1.5.7,<2.0,>=1.5.6 in c:\\users\\smhrd\\anaconda3\\lib\\site-packages (from urllib3[socks]~=1.26->selenium) (1.7.1)\n",
      "Requirement already satisfied: pycparser in c:\\users\\smhrd\\anaconda3\\lib\\site-packages (from cffi>=1.14->trio~=0.17->selenium) (2.21)\n",
      "Collecting h11<1,>=0.9.0\n",
      "  Downloading h11-0.14.0-py3-none-any.whl (58 kB)\n",
      "     ---------------------------------------- 58.3/58.3 kB ? eta 0:00:00\n",
      "Installing collected packages: outcome, h11, exceptiongroup, async-generator, wsproto, trio, trio-websocket, selenium\n",
      "Successfully installed async-generator-1.10 exceptiongroup-1.0.4 h11-0.14.0 outcome-1.2.0 selenium-4.7.2 trio-0.22.0 trio-websocket-0.9.2 wsproto-1.2.0\n"
     ]
    }
   ],
   "source": [
    "!pip install selenium # 설치"
   ]
  },
  {
   "cell_type": "markdown",
   "id": "704df73b",
   "metadata": {},
   "source": [
    "#### Selenium 사용하기\n"
   ]
  },
  {
   "cell_type": "code",
   "execution_count": 2,
   "id": "f0825679",
   "metadata": {
    "ExecuteTime": {
     "end_time": "2022-12-19T00:28:05.606966Z",
     "start_time": "2022-12-19T00:28:05.538147Z"
    }
   },
   "outputs": [],
   "source": [
    "# 도구 임폴트\n",
    "# chromdriver.exe 를 제어 및 실행시켜주는 라이브러리\n",
    "from selenium import webdriver as wb\n",
    "\n",
    "# 키보드의 값(enter, space, ctrl, 알파벳키보드값)을 제어할 수 있는 라이브러리\n",
    "from selenium.webdriver.common.keys import Keys\n",
    "\n",
    "# html 요소를 접근하는 방식을 제공하는 라이브러리\n",
    "# css선택자, 태그이름접근, 클래스접근, 아이디접근 ,,,\n",
    "from selenium.webdriver.common.by import By"
   ]
  },
  {
   "cell_type": "markdown",
   "id": "cd722037",
   "metadata": {},
   "source": [
    "#### 페이지 요청"
   ]
  },
  {
   "cell_type": "code",
   "execution_count": 85,
   "id": "cef79903",
   "metadata": {
    "ExecuteTime": {
     "end_time": "2022-12-19T01:35:22.774555Z",
     "start_time": "2022-12-19T01:35:21.338410Z"
    }
   },
   "outputs": [],
   "source": [
    "# wb.Chrome(chromedriver.exe 드라이버 경로 설정) \n",
    "# driver = wb.Chrome('./chromedriver.exe') 같은 경로에 있으면 생략가능\n",
    "url = \"https://www.naver.com/\"\n",
    "# 크롬 브라우저 연걸 설정\n",
    "# 제어할 수 있는 브라우저 실행, 브라우저를 제어하고 접근하기 위해서 driver 변수에 저장해서 사용한다\n",
    "driver = wb.Chrome()\n",
    "\n",
    "# url 주소에 해당하는 웹 페이지를 요청하는 함수\n",
    "driver.get(url)# 창실행"
   ]
  },
  {
   "cell_type": "markdown",
   "id": "9a7eb359",
   "metadata": {},
   "source": [
    "#### 특정 html 요소 접근(1개)\n",
    " - find_element(어떤 선택자 종류, value = '벨류값')"
   ]
  },
  {
   "cell_type": "code",
   "execution_count": 4,
   "id": "ae422f56",
   "metadata": {
    "ExecuteTime": {
     "end_time": "2022-12-19T00:38:33.628863Z",
     "start_time": "2022-12-19T00:38:33.608880Z"
    }
   },
   "outputs": [
    {
     "data": {
      "text/plain": [
       "<selenium.webdriver.remote.webelement.WebElement (session=\"73bdf6449a9d4c7b45f70fd1f862832d\", element=\"c811106c-90d8-4434-a338-3c8b5427c286\")>"
      ]
     },
     "execution_count": 4,
     "metadata": {},
     "output_type": "execute_result"
    }
   ],
   "source": [
    "# driver.find_element(): 웹 문서에서 특정 html요소 1개에 접근하는 함수\n",
    "# 검색창(input) 요소 접근하기\n",
    "driver.find_element(by='id',value ='query')"
   ]
  },
  {
   "cell_type": "code",
   "execution_count": 5,
   "id": "8e140e70",
   "metadata": {
    "ExecuteTime": {
     "end_time": "2022-12-19T00:40:54.817602Z",
     "start_time": "2022-12-19T00:40:53.779416Z"
    }
   },
   "outputs": [],
   "source": [
    "# 검색방법 1\n",
    "# by, value 활용한 html 요소접근\n",
    "# 검색창에 키보드 입력값 보내기\n",
    "# enter 기능\n",
    "driver.find_element(by='id',value ='query').send_keys('치즈돈까스\\n')"
   ]
  },
  {
   "cell_type": "code",
   "execution_count": 8,
   "id": "c426b98b",
   "metadata": {
    "ExecuteTime": {
     "end_time": "2022-12-19T00:44:05.760758Z",
     "start_time": "2022-12-19T00:44:04.836364Z"
    }
   },
   "outputs": [],
   "source": [
    "# 검색방법2\n",
    "# By.ID 를 활용한 html 요소접근\n",
    "driver.find_element(By.ID, value = 'query').send_keys('치즈돈까스\\n')"
   ]
  },
  {
   "cell_type": "code",
   "execution_count": 10,
   "id": "6c937f9a",
   "metadata": {
    "ExecuteTime": {
     "end_time": "2022-12-19T00:48:19.904884Z",
     "start_time": "2022-12-19T00:48:19.277132Z"
    }
   },
   "outputs": [],
   "source": [
    "# 검색방법3\n",
    "# By.CSS_SELECTOR --> id 값에 접근\n",
    "driver.find_element(By.CSS_SELECTOR, value = '#query').send_keys('치즈돈까스\\n')"
   ]
  },
  {
   "cell_type": "code",
   "execution_count": 17,
   "id": "0b98fee0",
   "metadata": {
    "ExecuteTime": {
     "end_time": "2022-12-19T01:13:17.856877Z",
     "start_time": "2022-12-19T01:13:16.603612Z"
    }
   },
   "outputs": [],
   "source": [
    "# 검색방법4\n",
    "driver.find_element(By.CSS_SELECTOR, value = '#query').send_keys('치즈돈까스')\n",
    "driver.find_element(By.CSS_SELECTOR, value = '#search_btn').click()"
   ]
  },
  {
   "cell_type": "markdown",
   "id": "7faf6f7d",
   "metadata": {},
   "source": [
    "#### 해당 태그의 여러 요소를 접근하는 함수(여러개)\n",
    " - find_elements()"
   ]
  },
  {
   "cell_type": "code",
   "execution_count": 24,
   "id": "4c7dde9d",
   "metadata": {
    "ExecuteTime": {
     "end_time": "2022-12-19T01:22:27.071137Z",
     "start_time": "2022-12-19T01:22:27.036540Z"
    }
   },
   "outputs": [
    {
     "data": {
      "text/plain": [
       "'당당한 치즈돈까스 960gx8팩 업소용'"
      ]
     },
     "execution_count": 24,
     "metadata": {},
     "output_type": "execute_result"
    }
   ],
   "source": [
    "# 치즈돈까스 상품명에 접근해보기\n",
    "products = driver.find_elements(By.CSS_SELECTOR, value = 'a.title')\n",
    "products[0].text # webelement.text : html객체 내의 텍스트 내용을 접근 -> str"
   ]
  },
  {
   "cell_type": "code",
   "execution_count": 25,
   "id": "1ccd0ed9",
   "metadata": {
    "ExecuteTime": {
     "end_time": "2022-12-19T01:24:01.299681Z",
     "start_time": "2022-12-19T01:24:01.163884Z"
    }
   },
   "outputs": [
    {
     "name": "stdout",
     "output_type": "stream",
     "text": [
      "당당한 치즈돈까스 960gx8팩 업소용\n",
      "진푸드 수제치즈돈까스1.8kgx4개 도매업소용\n",
      "옥주부 제주돼지 돈까스10팩 등심돈까스 치즈돈까스 특제소스\n",
      "삼형제고기 돈까스 수제 등심 치즈돈까스 옛날 경양식 냉동\n",
      "옥주부 치즈 돈까스 14팩[치즈 14개+감귤 7개+토마토 7개]\n",
      "유혜광 수제돈까스 통 등심 치즈 안심 치킨 생선까스 돈까스소스 매운맛소스 전문점 퀄리티\n",
      "옥주부 제주돼지 통까스 등심돈까스15개 치즈돈까스5개 소스\n",
      "풀무원 돈카츠 3봉 통등심 돈카츠 블럭치즈돈카츠\n",
      "\n",
      "\n",
      "\n",
      "\n",
      "\n",
      "\n",
      "\n",
      "\n"
     ]
    }
   ],
   "source": [
    "for i in products:\n",
    "    print(i.text) # i 요소1개.text"
   ]
  },
  {
   "cell_type": "code",
   "execution_count": 81,
   "id": "d6eae028",
   "metadata": {
    "ExecuteTime": {
     "end_time": "2022-12-19T01:32:12.728246Z",
     "start_time": "2022-12-19T01:32:12.701102Z"
    }
   },
   "outputs": [],
   "source": [
    "# 페이지 스크롤 내리기 ! -> Keys 활용\n",
    "# 스크롤 내리는 방법 : ARROW_DOWN,UP(조금씩 내리기), PAGE_DOWN,UP(보여지는 페이지에서 다음 페이지로 다운)\n",
    "# END(제일 하단 까지 스크롤 내리기)\n",
    "# 스크롤 적용할 대상 : body\n",
    "# 스크롤 적용하는 방법 : send_keys(Keys.스크롤 내리는 방법)\n",
    "driver.find_element(By.TAG_NAME, value = 'body').send_keys(Keys.PAGE_UP)"
   ]
  },
  {
   "cell_type": "code",
   "execution_count": 86,
   "id": "c0698959",
   "metadata": {
    "ExecuteTime": {
     "end_time": "2022-12-19T01:35:44.970303Z",
     "start_time": "2022-12-19T01:35:28.755597Z"
    }
   },
   "outputs": [],
   "source": [
    "# 크롬 브라우저 창 끄기\n",
    "driver.close()"
   ]
  },
  {
   "cell_type": "code",
   "execution_count": null,
   "id": "2c68fa9e",
   "metadata": {},
   "outputs": [],
   "source": []
  },
  {
   "cell_type": "code",
   "execution_count": null,
   "id": "ae0f6274",
   "metadata": {},
   "outputs": [],
   "source": []
  },
  {
   "cell_type": "code",
   "execution_count": null,
   "id": "a1ad119e",
   "metadata": {},
   "outputs": [],
   "source": []
  },
  {
   "cell_type": "code",
   "execution_count": null,
   "id": "da2447d4",
   "metadata": {},
   "outputs": [],
   "source": []
  },
  {
   "cell_type": "code",
   "execution_count": null,
   "id": "2814064f",
   "metadata": {},
   "outputs": [],
   "source": []
  },
  {
   "cell_type": "code",
   "execution_count": null,
   "id": "9017c0a7",
   "metadata": {},
   "outputs": [],
   "source": []
  },
  {
   "cell_type": "code",
   "execution_count": null,
   "id": "c0ba4e1d",
   "metadata": {},
   "outputs": [],
   "source": []
  },
  {
   "cell_type": "code",
   "execution_count": null,
   "id": "8539fd7c",
   "metadata": {},
   "outputs": [],
   "source": []
  },
  {
   "cell_type": "code",
   "execution_count": null,
   "id": "9229a439",
   "metadata": {},
   "outputs": [],
   "source": []
  },
  {
   "cell_type": "code",
   "execution_count": null,
   "id": "f4efea6e",
   "metadata": {},
   "outputs": [],
   "source": []
  },
  {
   "cell_type": "code",
   "execution_count": null,
   "id": "6a052184",
   "metadata": {},
   "outputs": [],
   "source": []
  },
  {
   "cell_type": "code",
   "execution_count": null,
   "id": "9075ab8e",
   "metadata": {},
   "outputs": [],
   "source": []
  },
  {
   "cell_type": "code",
   "execution_count": null,
   "id": "28881e60",
   "metadata": {},
   "outputs": [],
   "source": []
  },
  {
   "cell_type": "code",
   "execution_count": null,
   "id": "34f13ff0",
   "metadata": {},
   "outputs": [],
   "source": []
  },
  {
   "cell_type": "code",
   "execution_count": null,
   "id": "ae51123d",
   "metadata": {},
   "outputs": [],
   "source": []
  },
  {
   "cell_type": "code",
   "execution_count": null,
   "id": "5dff9a82",
   "metadata": {},
   "outputs": [],
   "source": []
  },
  {
   "cell_type": "code",
   "execution_count": null,
   "id": "a5c9a50c",
   "metadata": {},
   "outputs": [],
   "source": []
  },
  {
   "cell_type": "code",
   "execution_count": null,
   "id": "ff9329ea",
   "metadata": {},
   "outputs": [],
   "source": []
  },
  {
   "cell_type": "code",
   "execution_count": null,
   "id": "8e60931b",
   "metadata": {},
   "outputs": [],
   "source": []
  },
  {
   "cell_type": "code",
   "execution_count": null,
   "id": "96e941b1",
   "metadata": {},
   "outputs": [],
   "source": []
  },
  {
   "cell_type": "code",
   "execution_count": null,
   "id": "330fc8ac",
   "metadata": {},
   "outputs": [],
   "source": []
  },
  {
   "cell_type": "code",
   "execution_count": null,
   "id": "2aa9883d",
   "metadata": {},
   "outputs": [],
   "source": []
  },
  {
   "cell_type": "code",
   "execution_count": null,
   "id": "33e7ded5",
   "metadata": {},
   "outputs": [],
   "source": []
  },
  {
   "cell_type": "code",
   "execution_count": null,
   "id": "b92ebf67",
   "metadata": {},
   "outputs": [],
   "source": []
  },
  {
   "cell_type": "code",
   "execution_count": null,
   "id": "c4d9fbfe",
   "metadata": {},
   "outputs": [],
   "source": []
  },
  {
   "cell_type": "code",
   "execution_count": null,
   "id": "23f7bcfd",
   "metadata": {},
   "outputs": [],
   "source": []
  },
  {
   "cell_type": "code",
   "execution_count": null,
   "id": "789e30ff",
   "metadata": {},
   "outputs": [],
   "source": []
  },
  {
   "cell_type": "code",
   "execution_count": null,
   "id": "5fb1e05c",
   "metadata": {},
   "outputs": [],
   "source": []
  }
 ],
 "metadata": {
  "kernelspec": {
   "display_name": "Python 3 (ipykernel)",
   "language": "python",
   "name": "python3"
  },
  "language_info": {
   "codemirror_mode": {
    "name": "ipython",
    "version": 3
   },
   "file_extension": ".py",
   "mimetype": "text/x-python",
   "name": "python",
   "nbconvert_exporter": "python",
   "pygments_lexer": "ipython3",
   "version": "3.9.13"
  },
  "toc": {
   "base_numbering": 1,
   "nav_menu": {},
   "number_sections": true,
   "sideBar": true,
   "skip_h1_title": false,
   "title_cell": "Table of Contents",
   "title_sidebar": "Contents",
   "toc_cell": false,
   "toc_position": {},
   "toc_section_display": true,
   "toc_window_display": false
  }
 },
 "nbformat": 4,
 "nbformat_minor": 5
}
