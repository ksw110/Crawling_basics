{
 "cells": [
  {
   "cell_type": "markdown",
   "id": "bef81871",
   "metadata": {},
   "source": [
    "### 네이버 이미지 검색을 통한 이미지 수집\n",
    " 1. 이미지 저장할 폴더 정리(os라이브러리)\n",
    " 2. 이미지 url활용 수집후 이미지 파일로 저장해보기(urllib 라이브러리 urlretrieve)\n",
    " 3. 한 페이지 내의 고양이(동물) 이미지 수집하기\n",
    " 4. 스크롤 다운 하여 더 많은 이미지 파일 출력해서 저장하기"
   ]
  },
  {
   "cell_type": "code",
   "execution_count": 2,
   "id": "29093f6f",
   "metadata": {
    "ExecuteTime": {
     "end_time": "2022-12-20T02:44:34.799149Z",
     "start_time": "2022-12-20T02:44:34.794162Z"
    }
   },
   "outputs": [],
   "source": [
    "from selenium import webdriver as wb\n",
    "from selenium.webdriver.common.by import By\n",
    "from selenium.webdriver.common.keys import Keys\n",
    "import time\n",
    "\n",
    "# 파일시스템을 다룰 때 사용하는 라이브러리\n",
    "# 파일or 폴더 생성, 삭제, 이동, 파일이나 폴더의 존재여부 판단 등등..\n",
    "import os\n",
    "\n",
    "# 이미지경로를 기반으로 서버에 요청해서 이미지파일을 저장할 수 있는 라이브러리\n",
    "from urllib.request import urlretrieve"
   ]
  },
  {
   "cell_type": "code",
   "execution_count": 8,
   "id": "370ba9fa",
   "metadata": {
    "ExecuteTime": {
     "end_time": "2022-12-20T02:52:01.126443Z",
     "start_time": "2022-12-20T02:52:01.081973Z"
    }
   },
   "outputs": [
    {
     "data": {
      "text/plain": [
       "('./강아지.jpg', <http.client.HTTPMessage at 0x13f6ec13970>)"
      ]
     },
     "execution_count": 8,
     "metadata": {},
     "output_type": "execute_result"
    }
   ],
   "source": [
    "url = 'https://search.pstatic.net/common/?src=http%3A%2F%2Fblogfiles.naver.net%2Fdata28%2F2007%2F8%2F19%2F6%2F07%25B3%25E2_7%25BF%25F9_26%25C0%25CF_%25D9%25CAd_rgb9.jpg&type=a340'\n",
    "# urlretrieve(요청할 이미지 경로, 이미지 파일을 저장할 경로)\n",
    "urlretrieve(url, './강아지.jpg')"
   ]
  },
  {
   "cell_type": "code",
   "execution_count": 7,
   "id": "e78f76db",
   "metadata": {
    "ExecuteTime": {
     "end_time": "2022-12-20T02:51:19.695027Z",
     "start_time": "2022-12-20T02:51:19.683059Z"
    }
   },
   "outputs": [
    {
     "data": {
      "text/plain": [
       "False"
      ]
     },
     "execution_count": 7,
     "metadata": {},
     "output_type": "execute_result"
    }
   ],
   "source": [
    "# 폴더 존재여부 판단하기\n",
    "# 폴더가 있다면 : True\n",
    "# 없다면 : False\n",
    "os.path.isdir('./강아지')"
   ]
  },
  {
   "cell_type": "code",
   "execution_count": 9,
   "id": "f82b8a81",
   "metadata": {
    "ExecuteTime": {
     "end_time": "2022-12-20T02:52:56.587365Z",
     "start_time": "2022-12-20T02:52:56.576394Z"
    }
   },
   "outputs": [],
   "source": [
    "# 폴더 생성하기\n",
    "os.mkdir(\"./강아지\")"
   ]
  },
  {
   "cell_type": "code",
   "execution_count": 10,
   "id": "b6871cb3",
   "metadata": {
    "ExecuteTime": {
     "end_time": "2022-12-20T02:53:01.884675Z",
     "start_time": "2022-12-20T02:53:01.873713Z"
    }
   },
   "outputs": [
    {
     "data": {
      "text/plain": [
       "True"
      ]
     },
     "execution_count": 10,
     "metadata": {},
     "output_type": "execute_result"
    }
   ],
   "source": [
    "os.path.isdir('./강아지')"
   ]
  },
  {
   "cell_type": "code",
   "execution_count": 12,
   "id": "15d24508",
   "metadata": {
    "ExecuteTime": {
     "end_time": "2022-12-20T02:55:25.998572Z",
     "start_time": "2022-12-20T02:55:25.992618Z"
    }
   },
   "outputs": [],
   "source": [
    "# 조건\n",
    "# 해당 폴더가 있으면 생성 x\n",
    "# 해당 폴더가 없으면 폴더 생성\n",
    "if os.path.isdir('./강아지') == True:\n",
    "    print('현재 폴더는 있습니다.')\n",
    "else:\n",
    "    os.mkdir(\"./강아지\")"
   ]
  },
  {
   "cell_type": "code",
   "execution_count": 14,
   "id": "f872fe63",
   "metadata": {
    "ExecuteTime": {
     "end_time": "2022-12-20T03:10:24.244088Z",
     "start_time": "2022-12-20T03:10:24.232120Z"
    }
   },
   "outputs": [],
   "source": [
    "# 폴더 생성하는 함수 만들기\n",
    "def create_folder(name): # name 폴더명\n",
    "    if os.path.isdir(f'./{name}') == True:\n",
    "        print('현재 폴더는 있습니다.')\n",
    "    else:\n",
    "        os.mkdir(f\"./{name}\")\n",
    "        print(f'{name} 폴더가 생성되었습니다.')"
   ]
  },
  {
   "cell_type": "code",
   "execution_count": 15,
   "id": "0c15ad36",
   "metadata": {
    "ExecuteTime": {
     "end_time": "2022-12-20T03:10:25.626046Z",
     "start_time": "2022-12-20T03:10:25.615056Z"
    }
   },
   "outputs": [
    {
     "name": "stdout",
     "output_type": "stream",
     "text": [
      "물개 폴더가 생성되었습니다.\n"
     ]
    }
   ],
   "source": [
    "# 함수 호출\n",
    "create_folder('물개')"
   ]
  },
  {
   "cell_type": "markdown",
   "id": "a5efeb36",
   "metadata": {},
   "source": [
    "### 이미지 url활용 수집 후 이미지 파일로 저장하기"
   ]
  },
  {
   "cell_type": "code",
   "execution_count": 16,
   "id": "a7a4b02d",
   "metadata": {
    "ExecuteTime": {
     "end_time": "2022-12-20T03:14:02.145574Z",
     "start_time": "2022-12-20T03:14:00.824802Z"
    }
   },
   "outputs": [],
   "source": [
    "url = 'https://search.naver.com/search.naver?where=image&sm=tab_jum&query=%EA%B0%95%EC%95%84%EC%A7%80'\n",
    "# 드라이버 요청\n",
    "driver = wb.Chrome()\n",
    "driver.get(url)"
   ]
  },
  {
   "cell_type": "code",
   "execution_count": 29,
   "id": "84bb350f",
   "metadata": {
    "ExecuteTime": {
     "end_time": "2022-12-20T03:21:55.445536Z",
     "start_time": "2022-12-20T03:21:55.373893Z"
    }
   },
   "outputs": [
    {
     "data": {
      "text/plain": [
       "('./강아지/강아지1.jpg', <http.client.HTTPMessage at 0x13f6ec11790>)"
      ]
     },
     "execution_count": 29,
     "metadata": {},
     "output_type": "execute_result"
    }
   ],
   "source": [
    "# 첫번째 이미지 태그 접근\n",
    "first_img = driver.find_element(By.CSS_SELECTOR, value = 'img._image._listImage')\n",
    "first_url = first_img.get_attribute('src') # src 속성 접근하고자함\n",
    "# 저장하기\n",
    "urlretrieve(first_url, './강아지/강아지1.jpg')"
   ]
  },
  {
   "cell_type": "markdown",
   "id": "f58bcb41",
   "metadata": {
    "ExecuteTime": {
     "end_time": "2022-12-20T03:19:08.538305Z",
     "start_time": "2022-12-20T03:19:08.511400Z"
    }
   },
   "source": [
    "### 스크롤 다운하여 더 많은 이미지 파일 저장하기"
   ]
  },
  {
   "cell_type": "code",
   "execution_count": 35,
   "id": "c1f2a7cc",
   "metadata": {
    "ExecuteTime": {
     "end_time": "2022-12-20T03:33:09.135921Z",
     "start_time": "2022-12-20T03:32:51.527151Z"
    }
   },
   "outputs": [
    {
     "name": "stdout",
     "output_type": "stream",
     "text": [
      "480\n"
     ]
    }
   ],
   "source": [
    "url = 'https://search.naver.com/search.naver?where=image&sm=tab_jum&query=%EA%B0%95%EC%95%84%EC%A7%80'\n",
    "# 드라이버 요청\n",
    "driver = wb.Chrome()\n",
    "driver.get(url)\n",
    "\n",
    "# 로딩시간이 필요함\n",
    "time.sleep(2)\n",
    "\n",
    "# 스크롤 내리기 - > 이미지가 다 보이게 하는 것\n",
    "for i in range(6):\n",
    "    driver.find_element(By.TAG_NAME, value = 'body').send_keys(Keys.END)\n",
    "    time.sleep(2)\n",
    "\n",
    "# 이미지 태그 접근\n",
    "imgs = driver.find_elements(By.CSS_SELECTOR, value = 'img._image._listImage')\n",
    "print(len(imgs))\n",
    "\n"
   ]
  },
  {
   "cell_type": "code",
   "execution_count": 41,
   "id": "cee77d77",
   "metadata": {
    "ExecuteTime": {
     "end_time": "2022-12-20T03:46:03.952805Z",
     "start_time": "2022-12-20T03:45:45.772242Z"
    }
   },
   "outputs": [],
   "source": [
    "src_lst = [] # 올바른 주소 저장하는 리스트\n",
    "for i in range(len(imgs)):\n",
    "    src = imgs[i].get_attribute('src')\n",
    "    if src[:4] !='data': # 올바른 주소\n",
    "        src_lst.append(src)\n",
    "\n",
    "# 폴더에 이미지 파일 저장하기\n",
    "for i in range(len(src_lst)):\n",
    "    urlretrieve(src_lst[i], f'./강아지/강아지{i+1}.jpg')"
   ]
  },
  {
   "cell_type": "code",
   "execution_count": 40,
   "id": "a13dd98b",
   "metadata": {
    "ExecuteTime": {
     "end_time": "2022-12-20T03:44:54.023113Z",
     "start_time": "2022-12-20T03:44:54.004305Z"
    }
   },
   "outputs": [
    {
     "data": {
      "text/plain": [
       "380"
      ]
     },
     "execution_count": 40,
     "metadata": {},
     "output_type": "execute_result"
    }
   ],
   "source": []
  },
  {
   "cell_type": "code",
   "execution_count": null,
   "id": "2c4f3d28",
   "metadata": {},
   "outputs": [],
   "source": []
  },
  {
   "cell_type": "code",
   "execution_count": null,
   "id": "68c712bc",
   "metadata": {},
   "outputs": [],
   "source": []
  },
  {
   "cell_type": "code",
   "execution_count": null,
   "id": "9a3cdcdb",
   "metadata": {},
   "outputs": [],
   "source": []
  },
  {
   "cell_type": "code",
   "execution_count": null,
   "id": "f85dc60e",
   "metadata": {},
   "outputs": [],
   "source": []
  },
  {
   "cell_type": "code",
   "execution_count": null,
   "id": "c6e00b70",
   "metadata": {},
   "outputs": [],
   "source": []
  }
 ],
 "metadata": {
  "kernelspec": {
   "display_name": "Python 3 (ipykernel)",
   "language": "python",
   "name": "python3"
  },
  "language_info": {
   "codemirror_mode": {
    "name": "ipython",
    "version": 3
   },
   "file_extension": ".py",
   "mimetype": "text/x-python",
   "name": "python",
   "nbconvert_exporter": "python",
   "pygments_lexer": "ipython3",
   "version": "3.9.13"
  },
  "toc": {
   "base_numbering": 1,
   "nav_menu": {},
   "number_sections": true,
   "sideBar": true,
   "skip_h1_title": false,
   "title_cell": "Table of Contents",
   "title_sidebar": "Contents",
   "toc_cell": false,
   "toc_position": {},
   "toc_section_display": true,
   "toc_window_display": false
  }
 },
 "nbformat": 4,
 "nbformat_minor": 5
}
