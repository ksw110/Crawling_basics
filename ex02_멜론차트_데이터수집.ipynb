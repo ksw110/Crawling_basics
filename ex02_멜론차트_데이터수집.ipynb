{
 "cells": [
  {
   "cell_type": "markdown",
   "id": "7a3f2a83",
   "metadata": {},
   "source": [
    "### 멜론차트 top100 음원데이터 수집\n",
    "  - 가수명, 곡명 데이터 수집\n",
    "  - 가수명, 곡명 딕셔너리로 정리\n",
    "  - pandas 를 이용해서 DataFrame으로 생성\n",
    "  - DataFrame 엑셀파일로 저장"
   ]
  },
  {
   "cell_type": "code",
   "execution_count": 1,
   "id": "7d9ced25",
   "metadata": {
    "ExecuteTime": {
     "end_time": "2022-12-21T02:19:17.614411Z",
     "start_time": "2022-12-21T02:19:17.187844Z"
    }
   },
   "outputs": [],
   "source": [
    "# 환경셋팅\n",
    "# html 요청\n",
    "# 선택자 접근\n",
    "# header\n",
    "import requests as req              # html 요청/ 응답 하는 라이브러리\n",
    "from bs4 import BeautifulSoup as bs # html 인식할 수 있는 파이썬 객체로 변환해주는 라이브러리\n",
    "import pandas as pd\n",
    "header = {'user-agent':'Mozilla/5.0 (Windows NT 10.0; Win64; x64) AppleWebKit/537.36 (KHTML, like Gecko) Chrome/108.0.0.0 Safari/537.36'}"
   ]
  },
  {
   "cell_type": "code",
   "execution_count": 2,
   "id": "e32d9b68",
   "metadata": {
    "ExecuteTime": {
     "end_time": "2022-12-21T02:19:20.336892Z",
     "start_time": "2022-12-21T02:19:20.043144Z"
    }
   },
   "outputs": [],
   "source": [
    "# 멜론> 멜론차트 > top100\n",
    "# url 가져오기\n",
    "url = 'https://www.melon.com/chart/index.htm'\n",
    "# html 요청 하고 파이썬 객체로 변환\n",
    "res = req.get(url, headers = header)\n",
    "res # html 정보 잘 응답된 상태 200\n",
    "html = bs(res.text,'lxml')"
   ]
  },
  {
   "cell_type": "code",
   "execution_count": 7,
   "id": "362399d6",
   "metadata": {
    "ExecuteTime": {
     "end_time": "2022-12-21T02:19:49.040325Z",
     "start_time": "2022-12-21T02:19:49.027422Z"
    }
   },
   "outputs": [
    {
     "data": {
      "text/plain": [
       "'윤하 (YOUNHA)'"
      ]
     },
     "execution_count": 7,
     "metadata": {},
     "output_type": "execute_result"
    }
   ],
   "source": [
    "singer[1].text"
   ]
  },
  {
   "cell_type": "code",
   "execution_count": 3,
   "id": "5571683e",
   "metadata": {
    "ExecuteTime": {
     "end_time": "2022-12-21T02:19:24.834988Z",
     "start_time": "2022-12-21T02:19:24.747222Z"
    },
    "scrolled": true
   },
   "outputs": [
    {
     "name": "stdout",
     "output_type": "stream",
     "text": [
      "100\n",
      "100\n",
      "100\n"
     ]
    }
   ],
   "source": [
    "# 페이지 내의 html 태그 및 속성 규칙 확인\n",
    "# 곡명, 가수명 데이터 수집\n",
    "# 100개 개수가 잘 맞게 가져와 졌는지 길이 확인\n",
    "song = html.select('.ellipsis.rank01>span>a') # 개수확인\n",
    "singer = html.select('.checkEllipsis') # 공백 띄어쓰기 = '.'으로 대체\n",
    "print(len(song))\n",
    "print(len(singer))\n",
    "rank_lst = []\n",
    "for i in range(len(song)):\n",
    "    rank_lst.append(i+1)\n",
    "print(len(rank_lst))"
   ]
  },
  {
   "cell_type": "code",
   "execution_count": 10,
   "id": "dc502b9e",
   "metadata": {
    "ExecuteTime": {
     "end_time": "2022-12-15T00:10:58.826995Z",
     "start_time": "2022-12-15T00:10:58.813031Z"
    }
   },
   "outputs": [],
   "source": [
    "song1 = []\n",
    "for i in song:\n",
    "    song1.append(i.text)"
   ]
  },
  {
   "cell_type": "code",
   "execution_count": 11,
   "id": "ec308d29",
   "metadata": {
    "ExecuteTime": {
     "end_time": "2022-12-15T00:11:00.187302Z",
     "start_time": "2022-12-15T00:11:00.172417Z"
    }
   },
   "outputs": [],
   "source": [
    "singer2 = []\n",
    "for i in singer:\n",
    "    singer2.append(i.text)"
   ]
  },
  {
   "cell_type": "markdown",
   "id": "1221dab4",
   "metadata": {
    "ExecuteTime": {
     "end_time": "2022-12-15T00:11:01.701298Z",
     "start_time": "2022-12-15T00:11:01.678361Z"
    }
   },
   "source": [
    "### 데이터 프레임 생성"
   ]
  },
  {
   "cell_type": "code",
   "execution_count": 35,
   "id": "6eeb2f10",
   "metadata": {
    "ExecuteTime": {
     "end_time": "2022-12-15T00:28:01.688127Z",
     "start_time": "2022-12-15T00:28:01.676716Z"
    }
   },
   "outputs": [],
   "source": [
    "# 1. 딕셔너리 정리\n",
    "data = {'순위':rank_lst,'곡명':song1,'가수명':singer2}\n",
    "melon_df = pd.DataFrame(data)\n",
    "# 2. pd.DataFrame() 2차원 Serise() 1차원"
   ]
  },
  {
   "cell_type": "code",
   "execution_count": 38,
   "id": "8afe4378",
   "metadata": {
    "ExecuteTime": {
     "end_time": "2022-12-15T00:29:32.848152Z",
     "start_time": "2022-12-15T00:29:32.844723Z"
    }
   },
   "outputs": [],
   "source": [
    "melon_df2 = melon_df.set_index('순위') # 컬럼 순위를 인덱스로 지정하겠다"
   ]
  },
  {
   "cell_type": "code",
   "execution_count": 63,
   "id": "0d9e4adb",
   "metadata": {
    "ExecuteTime": {
     "end_time": "2022-12-15T00:40:57.448452Z",
     "start_time": "2022-12-15T00:40:57.428538Z"
    }
   },
   "outputs": [
    {
     "data": {
      "text/plain": [
       "순위\n",
       "30                                                  임영웅\n",
       "31                                                  임영웅\n",
       "32                                                  임영웅\n",
       "33                                        Ariana Grande\n",
       "34                                            BLACKPINK\n",
       "35                                                  임영웅\n",
       "36                                                  #안녕\n",
       "37                                            BE'O (비오)\n",
       "38                                                  노윤하\n",
       "39                                                  성시경\n",
       "40                              10CM, BIG Naughty (서동현)\n",
       "41                                                  임영웅\n",
       "42                                                  EXO\n",
       "43    이영지, 토이고 (toigo), 제이켠 (J'Kyun), 잠비노 (Jambino),...\n",
       "44                                              (여자)아이들\n",
       "45                                                 멜로망스\n",
       "46                                        Ariana Grande\n",
       "47                                         WSG워너비 (가야G)\n",
       "48                                                   주호\n",
       "49                                                  아이유\n",
       "50                                  엠씨더맥스 (M.C the MAX)\n",
       "51                                          헤이즈 (Heize)\n",
       "52                                             NewJeans\n",
       "53                                                 10CM\n",
       "54                        성시경, 박효신, 이석훈, 서인국, VIXX (빅스)\n",
       "55                                   LE SSERAFIM (르세라핌)\n",
       "56                                    BIG Naughty (서동현)\n",
       "57                                   강민경 (다비치), 잔나비 최정훈\n",
       "58                                           김민석 (멜로망스)\n",
       "59                                            IVE (아이브)\n",
       "60                                                  임한별\n",
       "Name: 가수명, dtype: object"
      ]
     },
     "execution_count": 63,
     "metadata": {},
     "output_type": "execute_result"
    }
   ],
   "source": [
    "melon_df2.index # 확인용. 데이터 타입 int\n",
    "# 인덱싱(접근) 숙제\n",
    "# 30~60 순위에 있는 가수명 출력해보기\n",
    "melon_df2.iloc[29:60,1]"
   ]
  },
  {
   "cell_type": "code",
   "execution_count": 65,
   "id": "88705b29",
   "metadata": {
    "ExecuteTime": {
     "end_time": "2022-12-15T00:43:11.341603Z",
     "start_time": "2022-12-15T00:43:11.252216Z"
    }
   },
   "outputs": [],
   "source": [
    "# 엑셀 저장\n",
    "# csv로 저장 > df.to_csv('경로및파일명', index = False) 인덱스 저장안하고싶다\n",
    "melon_df2.to_excel('멜론차트 Top100.xlsx', index = False)"
   ]
  },
  {
   "cell_type": "code",
   "execution_count": null,
   "id": "4ade9c67",
   "metadata": {},
   "outputs": [],
   "source": []
  },
  {
   "cell_type": "code",
   "execution_count": null,
   "id": "616072ca",
   "metadata": {},
   "outputs": [],
   "source": []
  },
  {
   "cell_type": "code",
   "execution_count": null,
   "id": "c7f1ae01",
   "metadata": {},
   "outputs": [],
   "source": []
  },
  {
   "cell_type": "code",
   "execution_count": null,
   "id": "ec5db85e",
   "metadata": {},
   "outputs": [],
   "source": []
  },
  {
   "cell_type": "code",
   "execution_count": null,
   "id": "cf19a298",
   "metadata": {},
   "outputs": [],
   "source": []
  },
  {
   "cell_type": "code",
   "execution_count": null,
   "id": "0f56f1d3",
   "metadata": {},
   "outputs": [],
   "source": []
  },
  {
   "cell_type": "code",
   "execution_count": null,
   "id": "955c4a3b",
   "metadata": {},
   "outputs": [],
   "source": []
  },
  {
   "cell_type": "code",
   "execution_count": null,
   "id": "c6782e06",
   "metadata": {},
   "outputs": [],
   "source": []
  },
  {
   "cell_type": "code",
   "execution_count": null,
   "id": "8dcd26ca",
   "metadata": {},
   "outputs": [],
   "source": []
  },
  {
   "cell_type": "code",
   "execution_count": null,
   "id": "69644987",
   "metadata": {},
   "outputs": [],
   "source": []
  }
 ],
 "metadata": {
  "kernelspec": {
   "display_name": "Python 3 (ipykernel)",
   "language": "python",
   "name": "python3"
  },
  "language_info": {
   "codemirror_mode": {
    "name": "ipython",
    "version": 3
   },
   "file_extension": ".py",
   "mimetype": "text/x-python",
   "name": "python",
   "nbconvert_exporter": "python",
   "pygments_lexer": "ipython3",
   "version": "3.9.13"
  },
  "toc": {
   "base_numbering": 1,
   "nav_menu": {},
   "number_sections": true,
   "sideBar": true,
   "skip_h1_title": false,
   "title_cell": "Table of Contents",
   "title_sidebar": "Contents",
   "toc_cell": false,
   "toc_position": {},
   "toc_section_display": true,
   "toc_window_display": false
  }
 },
 "nbformat": 4,
 "nbformat_minor": 5
}
