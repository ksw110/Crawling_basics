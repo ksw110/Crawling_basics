{
 "cells": [
  {
   "cell_type": "markdown",
   "id": "03f68388",
   "metadata": {},
   "source": [
    "### 한솥의 베스트 셀러 수집하기\n",
    " - 한솥 베스트 셀러 페이지 정보 요청\n",
    " - 한번씩 상세 페이지 들어갔다가 나오면서(이전페이지) 메뉴명, 가격, 상세정보 수집하기"
   ]
  },
  {
   "cell_type": "code",
   "execution_count": 4,
   "id": "25d0b15f",
   "metadata": {
    "ExecuteTime": {
     "end_time": "2022-12-20T00:22:24.350467Z",
     "start_time": "2022-12-20T00:22:24.340494Z"
    }
   },
   "outputs": [],
   "source": [
    "import pandas as pd\n",
    "import time # 실행에 대한 딜레이를 주기 위한 라이브러리\n",
    "from selenium import webdriver as wb\n",
    "from selenium.webdriver.common.by import By\n",
    "from selenium.webdriver.common.keys import Keys"
   ]
  },
  {
   "cell_type": "markdown",
   "id": "f7dd8490",
   "metadata": {},
   "source": [
    "### 1번째 메뉴 상세 페이지 들어가서 수집 후 이전 페이지로 이동"
   ]
  },
  {
   "cell_type": "code",
   "execution_count": 5,
   "id": "c1bfccf6",
   "metadata": {
    "ExecuteTime": {
     "end_time": "2022-12-20T00:26:01.324613Z",
     "start_time": "2022-12-20T00:25:59.341273Z"
    }
   },
   "outputs": [],
   "source": [
    "# 한솥 베스트 셀러 페이지 요청\n",
    "url = 'https://www.hsd.co.kr/menu/menu_keyword?keyword=1'\n",
    "driver = wb.Chrome()\n",
    "driver.get(url)"
   ]
  },
  {
   "cell_type": "code",
   "execution_count": 65,
   "id": "a1c23040",
   "metadata": {
    "ExecuteTime": {
     "end_time": "2022-12-20T01:41:11.755732Z",
     "start_time": "2022-12-20T01:41:09.470185Z"
    },
    "scrolled": true
   },
   "outputs": [
    {
     "name": "stdout",
     "output_type": "stream",
     "text": [
      "프리미엄 진달래 한솥 도시락 Top 5 메뉴 중 하나. 떡 햄버그, 돈까스, 새우튀김, 치킨 가라아게, 제육볶음이 모두 들어 있어 푸짐합니다. 생수와 조미 김이 함께 제공 됩니다. 7,500\n"
     ]
    }
   ],
   "source": [
    "# 메뉴 아이템 중에서 1번째 데이터 클릭\n",
    "# 태그:nth-child(1)\n",
    "item = driver.find_element(By.CSS_SELECTOR, value = '.menu_cont>li:nth-child(2)')\n",
    "item.get_attribute('href') # get_attribute() 태그안에 있는 속성값 확인\n",
    "item.click()\n",
    "# 메뉴 정보들 추출-> 출력\n",
    "cat = driver.find_element(By.CSS_SELECTOR, value = '.he_tit>span:first-child')\n",
    "name = driver.find_element(By.CSS_SELECTOR, value = '.he_tit>.dp2') # span:last-child\n",
    "price = driver.find_element(By.CSS_SELECTOR, value = '.account')\n",
    "cont = driver.find_element(By.CSS_SELECTOR, value = '.fz_03')\n",
    "print(cat.text,name.text,price.text,cont.text)\n",
    "time.sleep(1.5)\n",
    "driver.back() # 브라우저 제어 driver.click()"
   ]
  },
  {
   "cell_type": "markdown",
   "id": "33ae0ae9",
   "metadata": {
    "ExecuteTime": {
     "end_time": "2022-12-20T01:08:38.251705Z",
     "start_time": "2022-12-20T01:08:38.233753Z"
    }
   },
   "source": [
    "### 베스트셀러 모든 메뉴 상세 페이지 들어가서 수집하기\n",
    " - 반복을 몇번 해야될지 찾아내기 (li의 개수만큼)\n",
    " - 첫번째 메뉴 상세페이지 들어갔다가 나와서 두번째 메뉴 클릭\n",
    " - 위의 과정을 마지막 메뉴까지 진행하기\n",
    " "
   ]
  },
  {
   "cell_type": "code",
   "execution_count": 78,
   "id": "cfa91558",
   "metadata": {
    "ExecuteTime": {
     "end_time": "2022-12-20T02:28:43.111848Z",
     "start_time": "2022-12-20T02:28:18.703930Z"
    }
   },
   "outputs": [],
   "source": [
    "# 반복을 몇번해야될지 찾아내기 (li의 개수만큼)\n",
    "data_range = driver.find_elements(By.CSS_SELECTOR, value = '.menu_cont>li')\n",
    "menu_cat = []\n",
    "menu_name = []\n",
    "menu_price = []\n",
    "menu_cont = [] \n",
    "data_lst = [] # 다른방법\n",
    "for i in range(len(data_range)):\n",
    "    item = driver.find_element(By.CSS_SELECTOR, value = f'.menu_cont>li:nth-child({i+1})')\n",
    "    item.click()\n",
    "    # 메뉴 정보들 추출-> 출력\n",
    "    cat = driver.find_element(By.CSS_SELECTOR, value = '.he_tit>span:first-child').text\n",
    "    name = driver.find_element(By.CSS_SELECTOR, value = '.he_tit>.dp2').text # span:last-child\n",
    "    price = driver.find_element(By.CSS_SELECTOR, value = '.account').text\n",
    "    cont = driver.find_element(By.CSS_SELECTOR, value = '.fz_03').text\n",
    "    data_lst.append([cat,name,price,cont])\n",
    "    time.sleep(1.5)\n",
    "    driver.back() # 브라우저 제어 driver.click()\n",
    "    menu_cat.append(cat)\n",
    "    menu_name.append(name)\n",
    "    menu_price.append(price)\n",
    "    menu_cont.append(cont)\n",
    "# driver.close()    "
   ]
  },
  {
   "cell_type": "code",
   "execution_count": 75,
   "id": "35e77fff",
   "metadata": {
    "ExecuteTime": {
     "end_time": "2022-12-20T01:48:02.907455Z",
     "start_time": "2022-12-20T01:48:02.894746Z"
    }
   },
   "outputs": [],
   "source": [
    "data = {'분류':menu_cat,'메뉴이름':menu_name,'메뉴설명':menu_price,'가격':menu_cont}\n",
    "menu_df = pd.DataFrame(data)"
   ]
  },
  {
   "cell_type": "code",
   "execution_count": 77,
   "id": "dff1e116",
   "metadata": {
    "ExecuteTime": {
     "end_time": "2022-12-20T01:50:05.580841Z",
     "start_time": "2022-12-20T01:50:05.567876Z"
    }
   },
   "outputs": [
    {
     "data": {
      "text/html": [
       "<div>\n",
       "<style scoped>\n",
       "    .dataframe tbody tr th:only-of-type {\n",
       "        vertical-align: middle;\n",
       "    }\n",
       "\n",
       "    .dataframe tbody tr th {\n",
       "        vertical-align: top;\n",
       "    }\n",
       "\n",
       "    .dataframe thead th {\n",
       "        text-align: right;\n",
       "    }\n",
       "</style>\n",
       "<table border=\"1\" class=\"dataframe\">\n",
       "  <thead>\n",
       "    <tr style=\"text-align: right;\">\n",
       "      <th></th>\n",
       "      <th>분류</th>\n",
       "      <th>메뉴이름</th>\n",
       "      <th>메뉴설명</th>\n",
       "      <th>가격</th>\n",
       "    </tr>\n",
       "  </thead>\n",
       "  <tbody>\n",
       "    <tr>\n",
       "      <th>0</th>\n",
       "      <td>프리미엄</td>\n",
       "      <td>매화</td>\n",
       "      <td>12가지 다양한 반찬과 조미김, 미니생수가 함께 구성된 프리미엄 도시락으로 소불고기, 제육볶음, 새우후라이, 짭쪼름한 맛이 일품인 고등어 데리야끼 2조각이 구성된 든든한 도시락(※점포 식재 상황에 따라 연어(1조각) 또는 고등어(2조각)로 제공됩니다)</td>\n",
       "      <td>10,000</td>\n",
       "    </tr>\n",
       "    <tr>\n",
       "      <th>1</th>\n",
       "      <td>프리미엄</td>\n",
       "      <td>진달래</td>\n",
       "      <td>한솥 도시락 Top 5 메뉴 중 하나. 떡 햄버그, 돈까스, 새우튀김, 치킨 가라아게, 제육볶음이 모두 들어 있어 푸짐합니다. 생수와 조미 김이 함께 제공 됩니다.</td>\n",
       "      <td>7,500</td>\n",
       "    </tr>\n",
       "    <tr>\n",
       "      <th>2</th>\n",
       "      <td>마요</td>\n",
       "      <td>메가치킨마요</td>\n",
       "      <td>[베스트&amp;스테디셀러 SINCE 2003] 2003년에 한국 최초로 개발 출시한 한솥 대표 인기 메뉴입니다. 밥 위에 지단채와 슬라이스한 치킨가라아게를 올렸습니다. 따로 드리는 조미 김을 잘게 부수어 넣고 마요드레싱과 덮밥소스를 뿌린 후 비벼 먹는 맛이 일품입니다. 치킨마요의 치킨이 2.5배 증량된 메가 사이즈에 도전하세요! (밥 370g + 치킨 150g)</td>\n",
       "      <td>5,800</td>\n",
       "    </tr>\n",
       "    <tr>\n",
       "      <th>3</th>\n",
       "      <td>마요</td>\n",
       "      <td>빅치킨마요</td>\n",
       "      <td>[베스트&amp;스테디셀러 SINCE 2003] 2003년에 한국 최초로 개발 출시한 한솥 대표 인기 메뉴입니다. 밥 위에 지단채와 슬라이스한 치킨가라아게를 올렸습니다. 따로 드리는 조미 김을 잘게 부수어 넣고 마요드레싱과 덮밥소스를 뿌린 후 비벼 먹는 맛이 일품입니다. 치킨마요에 밥(+70g), 치킨(+15g), 소스(+10g) 모두 빅으로 푸짐하게 담았습니다. (밥 300g + 치킨 75g)</td>\n",
       "      <td>4,100</td>\n",
       "    </tr>\n",
       "    <tr>\n",
       "      <th>4</th>\n",
       "      <td>마요</td>\n",
       "      <td>치킨마요</td>\n",
       "      <td>[베스트&amp;스테디셀러 SINCE 2003] 2003년에 한국 최초로 개발 출시한 한솥 대표 인기 메뉴입니다. 밥 위에 지단채와 슬라이스한 치킨가라아게를 올렸습니다. 따로 드리는 조미 김을 잘게 부수어 넣고 마요드레싱과 덮밥소스를 뿌린 후 비벼 먹는 맛이 일품입니다. (밥 230g + 치킨 60g)</td>\n",
       "      <td>3,500</td>\n",
       "    </tr>\n",
       "    <tr>\n",
       "      <th>5</th>\n",
       "      <td>볶음밥</td>\n",
       "      <td>스팸 김치볶음밥</td>\n",
       "      <td>직화 가마솥 방식으로 지어 고슬고슬한 밥과 100% 국내산 김치를 먹기 좋은 크기로 송송 썰어 넣어 아삭아삭 씹는 맛이 좋으며, 자극적이지 않아 입맛 당기는 한국인의 소울푸드입니다.</td>\n",
       "      <td>4,700</td>\n",
       "    </tr>\n",
       "    <tr>\n",
       "      <th>6</th>\n",
       "      <td>볶음밥</td>\n",
       "      <td>스팸철판볶음밥</td>\n",
       "      <td>매콤한 한솥철판볶음밥에 짭쪼름한 스팸을 올린 메뉴로 ‘찰떡궁합’의 맛을 느낄 수 있습니다</td>\n",
       "      <td>4,500</td>\n",
       "    </tr>\n",
       "    <tr>\n",
       "      <th>7</th>\n",
       "      <td>모둠</td>\n",
       "      <td>숯불직화구이</td>\n",
       "      <td>석쇠에 구워 숯불향이 가득한 직화구이와 다양한 반찬 정식도시락, 라유소스로 매콤한 풍미까지!</td>\n",
       "      <td>6,500</td>\n",
       "    </tr>\n",
       "    <tr>\n",
       "      <th>8</th>\n",
       "      <td>모둠</td>\n",
       "      <td>동백</td>\n",
       "      <td>[베스트&amp;스테디셀러 SINCE 2008] 연하고 부드러운 햄버그에 쫄깃한 떡을 넣은 떡햄버그와 탱글탱글한 식감이 살아있는 새우튀김, 호주산 소불고기, 한솥만의 명품 치킨, 해물 볼어묵, 각종 밑반찬은 물론 김, 타르타르소스가 들어간 도시락입니다.</td>\n",
       "      <td>5,800</td>\n",
       "    </tr>\n",
       "    <tr>\n",
       "      <th>9</th>\n",
       "      <td>고기고기</td>\n",
       "      <td>새치 고기고기</td>\n",
       "      <td>새우튀김, 치킨가라아게, 불고기, 제육볶음으로 구성한 새.치.고기.고기 도시락입니다. 새우튀김은 흰다리새우(중하)가 통으로 들어가 탱글탱글한 식감이 살아있으며 치킨가라아게는 부드러운 순 닭다리살을 간장으로 가미한 후 튀겨내 짭조름한 감칠맛이 좋습니다.</td>\n",
       "      <td>6,700</td>\n",
       "    </tr>\n",
       "    <tr>\n",
       "      <th>10</th>\n",
       "      <td>모둠</td>\n",
       "      <td>돈까스도련님</td>\n",
       "      <td>[베스트&amp;스테디셀러 SINCE 1994] 도련님 도시락의 오징어까스 대신 두툼한 돼지고기 등심으로 만든 돈까스를 넣어 구성했습니다. 한솥의 대표 메뉴입니다.</td>\n",
       "      <td>4,500</td>\n",
       "    </tr>\n",
       "  </tbody>\n",
       "</table>\n",
       "</div>"
      ],
      "text/plain": [
       "      분류      메뉴이름  \\\n",
       "0   프리미엄        매화   \n",
       "1   프리미엄       진달래   \n",
       "2     마요    메가치킨마요   \n",
       "3     마요     빅치킨마요   \n",
       "4     마요      치킨마요   \n",
       "5    볶음밥  스팸 김치볶음밥   \n",
       "6    볶음밥   스팸철판볶음밥   \n",
       "7     모둠    숯불직화구이   \n",
       "8     모둠        동백   \n",
       "9   고기고기   새치 고기고기   \n",
       "10    모둠    돈까스도련님   \n",
       "\n",
       "                                                                                                                                                                                                                          메뉴설명  \\\n",
       "0                                                                                 12가지 다양한 반찬과 조미김, 미니생수가 함께 구성된 프리미엄 도시락으로 소불고기, 제육볶음, 새우후라이, 짭쪼름한 맛이 일품인 고등어 데리야끼 2조각이 구성된 든든한 도시락(※점포 식재 상황에 따라 연어(1조각) 또는 고등어(2조각)로 제공됩니다)   \n",
       "1                                                                                                                                  한솥 도시락 Top 5 메뉴 중 하나. 떡 햄버그, 돈까스, 새우튀김, 치킨 가라아게, 제육볶음이 모두 들어 있어 푸짐합니다. 생수와 조미 김이 함께 제공 됩니다.   \n",
       "2                     [베스트&스테디셀러 SINCE 2003] 2003년에 한국 최초로 개발 출시한 한솥 대표 인기 메뉴입니다. 밥 위에 지단채와 슬라이스한 치킨가라아게를 올렸습니다. 따로 드리는 조미 김을 잘게 부수어 넣고 마요드레싱과 덮밥소스를 뿌린 후 비벼 먹는 맛이 일품입니다. 치킨마요의 치킨이 2.5배 증량된 메가 사이즈에 도전하세요! (밥 370g + 치킨 150g)   \n",
       "3   [베스트&스테디셀러 SINCE 2003] 2003년에 한국 최초로 개발 출시한 한솥 대표 인기 메뉴입니다. 밥 위에 지단채와 슬라이스한 치킨가라아게를 올렸습니다. 따로 드리는 조미 김을 잘게 부수어 넣고 마요드레싱과 덮밥소스를 뿌린 후 비벼 먹는 맛이 일품입니다. 치킨마요에 밥(+70g), 치킨(+15g), 소스(+10g) 모두 빅으로 푸짐하게 담았습니다. (밥 300g + 치킨 75g)   \n",
       "4                                                        [베스트&스테디셀러 SINCE 2003] 2003년에 한국 최초로 개발 출시한 한솥 대표 인기 메뉴입니다. 밥 위에 지단채와 슬라이스한 치킨가라아게를 올렸습니다. 따로 드리는 조미 김을 잘게 부수어 넣고 마요드레싱과 덮밥소스를 뿌린 후 비벼 먹는 맛이 일품입니다. (밥 230g + 치킨 60g)   \n",
       "5                                                                                                                        직화 가마솥 방식으로 지어 고슬고슬한 밥과 100% 국내산 김치를 먹기 좋은 크기로 송송 썰어 넣어 아삭아삭 씹는 맛이 좋으며, 자극적이지 않아 입맛 당기는 한국인의 소울푸드입니다.   \n",
       "6                                                                                                                                                                            매콤한 한솥철판볶음밥에 짭쪼름한 스팸을 올린 메뉴로 ‘찰떡궁합’의 맛을 느낄 수 있습니다   \n",
       "7                                                                                                                                                                          석쇠에 구워 숯불향이 가득한 직화구이와 다양한 반찬 정식도시락, 라유소스로 매콤한 풍미까지!   \n",
       "8                                                                                    [베스트&스테디셀러 SINCE 2008] 연하고 부드러운 햄버그에 쫄깃한 떡을 넣은 떡햄버그와 탱글탱글한 식감이 살아있는 새우튀김, 호주산 소불고기, 한솥만의 명품 치킨, 해물 볼어묵, 각종 밑반찬은 물론 김, 타르타르소스가 들어간 도시락입니다.   \n",
       "9                                                                                 새우튀김, 치킨가라아게, 불고기, 제육볶음으로 구성한 새.치.고기.고기 도시락입니다. 새우튀김은 흰다리새우(중하)가 통으로 들어가 탱글탱글한 식감이 살아있으며 치킨가라아게는 부드러운 순 닭다리살을 간장으로 가미한 후 튀겨내 짭조름한 감칠맛이 좋습니다.   \n",
       "10                                                                                                                                     [베스트&스테디셀러 SINCE 1994] 도련님 도시락의 오징어까스 대신 두툼한 돼지고기 등심으로 만든 돈까스를 넣어 구성했습니다. 한솥의 대표 메뉴입니다.   \n",
       "\n",
       "        가격  \n",
       "0   10,000  \n",
       "1    7,500  \n",
       "2    5,800  \n",
       "3    4,100  \n",
       "4    3,500  \n",
       "5    4,700  \n",
       "6    4,500  \n",
       "7    6,500  \n",
       "8    5,800  \n",
       "9    6,700  \n",
       "10   4,500  "
      ]
     },
     "execution_count": 77,
     "metadata": {},
     "output_type": "execute_result"
    }
   ],
   "source": [
    "pd.set_option('display.max_colwidth', None)\n",
    "menu_df"
   ]
  },
  {
   "cell_type": "code",
   "execution_count": 83,
   "id": "8b559f24",
   "metadata": {
    "ExecuteTime": {
     "end_time": "2022-12-20T02:31:26.769632Z",
     "start_time": "2022-12-20T02:31:26.755665Z"
    }
   },
   "outputs": [
    {
     "data": {
      "text/html": [
       "<div>\n",
       "<style scoped>\n",
       "    .dataframe tbody tr th:only-of-type {\n",
       "        vertical-align: middle;\n",
       "    }\n",
       "\n",
       "    .dataframe tbody tr th {\n",
       "        vertical-align: top;\n",
       "    }\n",
       "\n",
       "    .dataframe thead th {\n",
       "        text-align: right;\n",
       "    }\n",
       "</style>\n",
       "<table border=\"1\" class=\"dataframe\">\n",
       "  <thead>\n",
       "    <tr style=\"text-align: right;\">\n",
       "      <th></th>\n",
       "      <th>구분</th>\n",
       "      <th>메뉴</th>\n",
       "      <th>메뉴정보</th>\n",
       "      <th>가격</th>\n",
       "    </tr>\n",
       "  </thead>\n",
       "  <tbody>\n",
       "    <tr>\n",
       "      <th>0</th>\n",
       "      <td>프리미엄</td>\n",
       "      <td>매화</td>\n",
       "      <td>12가지 다양한 반찬과 조미김, 미니생수가 함께 구성된 프리미엄 도시락으로 소불고기, 제육볶음, 새우후라이, 짭쪼름한 맛이 일품인 고등어 데리야끼 2조각이 구성된 든든한 도시락(※점포 식재 상황에 따라 연어(1조각) 또는 고등어(2조각)로 제공됩니다)</td>\n",
       "      <td>10,000</td>\n",
       "    </tr>\n",
       "    <tr>\n",
       "      <th>1</th>\n",
       "      <td>프리미엄</td>\n",
       "      <td>진달래</td>\n",
       "      <td>한솥 도시락 Top 5 메뉴 중 하나. 떡 햄버그, 돈까스, 새우튀김, 치킨 가라아게, 제육볶음이 모두 들어 있어 푸짐합니다. 생수와 조미 김이 함께 제공 됩니다.</td>\n",
       "      <td>7,500</td>\n",
       "    </tr>\n",
       "    <tr>\n",
       "      <th>2</th>\n",
       "      <td>마요</td>\n",
       "      <td>메가치킨마요</td>\n",
       "      <td>[베스트&amp;스테디셀러 SINCE 2003] 2003년에 한국 최초로 개발 출시한 한솥 대표 인기 메뉴입니다. 밥 위에 지단채와 슬라이스한 치킨가라아게를 올렸습니다. 따로 드리는 조미 김을 잘게 부수어 넣고 마요드레싱과 덮밥소스를 뿌린 후 비벼 먹는 맛이 일품입니다. 치킨마요의 치킨이 2.5배 증량된 메가 사이즈에 도전하세요! (밥 370g + 치킨 150g)</td>\n",
       "      <td>5,800</td>\n",
       "    </tr>\n",
       "    <tr>\n",
       "      <th>3</th>\n",
       "      <td>마요</td>\n",
       "      <td>빅치킨마요</td>\n",
       "      <td>[베스트&amp;스테디셀러 SINCE 2003] 2003년에 한국 최초로 개발 출시한 한솥 대표 인기 메뉴입니다. 밥 위에 지단채와 슬라이스한 치킨가라아게를 올렸습니다. 따로 드리는 조미 김을 잘게 부수어 넣고 마요드레싱과 덮밥소스를 뿌린 후 비벼 먹는 맛이 일품입니다. 치킨마요에 밥(+70g), 치킨(+15g), 소스(+10g) 모두 빅으로 푸짐하게 담았습니다. (밥 300g + 치킨 75g)</td>\n",
       "      <td>4,100</td>\n",
       "    </tr>\n",
       "    <tr>\n",
       "      <th>4</th>\n",
       "      <td>마요</td>\n",
       "      <td>치킨마요</td>\n",
       "      <td>[베스트&amp;스테디셀러 SINCE 2003] 2003년에 한국 최초로 개발 출시한 한솥 대표 인기 메뉴입니다. 밥 위에 지단채와 슬라이스한 치킨가라아게를 올렸습니다. 따로 드리는 조미 김을 잘게 부수어 넣고 마요드레싱과 덮밥소스를 뿌린 후 비벼 먹는 맛이 일품입니다. (밥 230g + 치킨 60g)</td>\n",
       "      <td>3,500</td>\n",
       "    </tr>\n",
       "    <tr>\n",
       "      <th>5</th>\n",
       "      <td>볶음밥</td>\n",
       "      <td>스팸 김치볶음밥</td>\n",
       "      <td>직화 가마솥 방식으로 지어 고슬고슬한 밥과 100% 국내산 김치를 먹기 좋은 크기로 송송 썰어 넣어 아삭아삭 씹는 맛이 좋으며, 자극적이지 않아 입맛 당기는 한국인의 소울푸드입니다.</td>\n",
       "      <td>4,700</td>\n",
       "    </tr>\n",
       "    <tr>\n",
       "      <th>6</th>\n",
       "      <td>볶음밥</td>\n",
       "      <td>스팸철판볶음밥</td>\n",
       "      <td>매콤한 한솥철판볶음밥에 짭쪼름한 스팸을 올린 메뉴로 ‘찰떡궁합’의 맛을 느낄 수 있습니다</td>\n",
       "      <td>4,500</td>\n",
       "    </tr>\n",
       "    <tr>\n",
       "      <th>7</th>\n",
       "      <td>모둠</td>\n",
       "      <td>숯불직화구이</td>\n",
       "      <td>석쇠에 구워 숯불향이 가득한 직화구이와 다양한 반찬 정식도시락, 라유소스로 매콤한 풍미까지!</td>\n",
       "      <td>6,500</td>\n",
       "    </tr>\n",
       "    <tr>\n",
       "      <th>8</th>\n",
       "      <td>모둠</td>\n",
       "      <td>동백</td>\n",
       "      <td>[베스트&amp;스테디셀러 SINCE 2008] 연하고 부드러운 햄버그에 쫄깃한 떡을 넣은 떡햄버그와 탱글탱글한 식감이 살아있는 새우튀김, 호주산 소불고기, 한솥만의 명품 치킨, 해물 볼어묵, 각종 밑반찬은 물론 김, 타르타르소스가 들어간 도시락입니다.</td>\n",
       "      <td>5,800</td>\n",
       "    </tr>\n",
       "    <tr>\n",
       "      <th>9</th>\n",
       "      <td>고기고기</td>\n",
       "      <td>새치 고기고기</td>\n",
       "      <td>새우튀김, 치킨가라아게, 불고기, 제육볶음으로 구성한 새.치.고기.고기 도시락입니다. 새우튀김은 흰다리새우(중하)가 통으로 들어가 탱글탱글한 식감이 살아있으며 치킨가라아게는 부드러운 순 닭다리살을 간장으로 가미한 후 튀겨내 짭조름한 감칠맛이 좋습니다.</td>\n",
       "      <td>6,700</td>\n",
       "    </tr>\n",
       "    <tr>\n",
       "      <th>10</th>\n",
       "      <td>모둠</td>\n",
       "      <td>돈까스도련님</td>\n",
       "      <td>[베스트&amp;스테디셀러 SINCE 1994] 도련님 도시락의 오징어까스 대신 두툼한 돼지고기 등심으로 만든 돈까스를 넣어 구성했습니다. 한솥의 대표 메뉴입니다.</td>\n",
       "      <td>4,500</td>\n",
       "    </tr>\n",
       "  </tbody>\n",
       "</table>\n",
       "</div>"
      ],
      "text/plain": [
       "      구분        메뉴  \\\n",
       "0   프리미엄        매화   \n",
       "1   프리미엄       진달래   \n",
       "2     마요    메가치킨마요   \n",
       "3     마요     빅치킨마요   \n",
       "4     마요      치킨마요   \n",
       "5    볶음밥  스팸 김치볶음밥   \n",
       "6    볶음밥   스팸철판볶음밥   \n",
       "7     모둠    숯불직화구이   \n",
       "8     모둠        동백   \n",
       "9   고기고기   새치 고기고기   \n",
       "10    모둠    돈까스도련님   \n",
       "\n",
       "                                                                                                                                                                                                                          메뉴정보  \\\n",
       "0                                                                                 12가지 다양한 반찬과 조미김, 미니생수가 함께 구성된 프리미엄 도시락으로 소불고기, 제육볶음, 새우후라이, 짭쪼름한 맛이 일품인 고등어 데리야끼 2조각이 구성된 든든한 도시락(※점포 식재 상황에 따라 연어(1조각) 또는 고등어(2조각)로 제공됩니다)   \n",
       "1                                                                                                                                  한솥 도시락 Top 5 메뉴 중 하나. 떡 햄버그, 돈까스, 새우튀김, 치킨 가라아게, 제육볶음이 모두 들어 있어 푸짐합니다. 생수와 조미 김이 함께 제공 됩니다.   \n",
       "2                     [베스트&스테디셀러 SINCE 2003] 2003년에 한국 최초로 개발 출시한 한솥 대표 인기 메뉴입니다. 밥 위에 지단채와 슬라이스한 치킨가라아게를 올렸습니다. 따로 드리는 조미 김을 잘게 부수어 넣고 마요드레싱과 덮밥소스를 뿌린 후 비벼 먹는 맛이 일품입니다. 치킨마요의 치킨이 2.5배 증량된 메가 사이즈에 도전하세요! (밥 370g + 치킨 150g)   \n",
       "3   [베스트&스테디셀러 SINCE 2003] 2003년에 한국 최초로 개발 출시한 한솥 대표 인기 메뉴입니다. 밥 위에 지단채와 슬라이스한 치킨가라아게를 올렸습니다. 따로 드리는 조미 김을 잘게 부수어 넣고 마요드레싱과 덮밥소스를 뿌린 후 비벼 먹는 맛이 일품입니다. 치킨마요에 밥(+70g), 치킨(+15g), 소스(+10g) 모두 빅으로 푸짐하게 담았습니다. (밥 300g + 치킨 75g)   \n",
       "4                                                        [베스트&스테디셀러 SINCE 2003] 2003년에 한국 최초로 개발 출시한 한솥 대표 인기 메뉴입니다. 밥 위에 지단채와 슬라이스한 치킨가라아게를 올렸습니다. 따로 드리는 조미 김을 잘게 부수어 넣고 마요드레싱과 덮밥소스를 뿌린 후 비벼 먹는 맛이 일품입니다. (밥 230g + 치킨 60g)   \n",
       "5                                                                                                                        직화 가마솥 방식으로 지어 고슬고슬한 밥과 100% 국내산 김치를 먹기 좋은 크기로 송송 썰어 넣어 아삭아삭 씹는 맛이 좋으며, 자극적이지 않아 입맛 당기는 한국인의 소울푸드입니다.   \n",
       "6                                                                                                                                                                            매콤한 한솥철판볶음밥에 짭쪼름한 스팸을 올린 메뉴로 ‘찰떡궁합’의 맛을 느낄 수 있습니다   \n",
       "7                                                                                                                                                                          석쇠에 구워 숯불향이 가득한 직화구이와 다양한 반찬 정식도시락, 라유소스로 매콤한 풍미까지!   \n",
       "8                                                                                    [베스트&스테디셀러 SINCE 2008] 연하고 부드러운 햄버그에 쫄깃한 떡을 넣은 떡햄버그와 탱글탱글한 식감이 살아있는 새우튀김, 호주산 소불고기, 한솥만의 명품 치킨, 해물 볼어묵, 각종 밑반찬은 물론 김, 타르타르소스가 들어간 도시락입니다.   \n",
       "9                                                                                 새우튀김, 치킨가라아게, 불고기, 제육볶음으로 구성한 새.치.고기.고기 도시락입니다. 새우튀김은 흰다리새우(중하)가 통으로 들어가 탱글탱글한 식감이 살아있으며 치킨가라아게는 부드러운 순 닭다리살을 간장으로 가미한 후 튀겨내 짭조름한 감칠맛이 좋습니다.   \n",
       "10                                                                                                                                     [베스트&스테디셀러 SINCE 1994] 도련님 도시락의 오징어까스 대신 두툼한 돼지고기 등심으로 만든 돈까스를 넣어 구성했습니다. 한솥의 대표 메뉴입니다.   \n",
       "\n",
       "        가격  \n",
       "0   10,000  \n",
       "1    7,500  \n",
       "2    5,800  \n",
       "3    4,100  \n",
       "4    3,500  \n",
       "5    4,700  \n",
       "6    4,500  \n",
       "7    6,500  \n",
       "8    5,800  \n",
       "9    6,700  \n",
       "10   4,500  "
      ]
     },
     "execution_count": 83,
     "metadata": {},
     "output_type": "execute_result"
    }
   ],
   "source": [
    "# 데이터 프레임 생성\n",
    "hsd_best_df = pd.DataFrame(data_lst, columns = ['구분','메뉴','메뉴정보','가격'])\n",
    "hsd_best_df"
   ]
  },
  {
   "cell_type": "code",
   "execution_count": null,
   "id": "14d50b7a",
   "metadata": {},
   "outputs": [],
   "source": []
  },
  {
   "cell_type": "code",
   "execution_count": null,
   "id": "2dfc975b",
   "metadata": {},
   "outputs": [],
   "source": []
  },
  {
   "cell_type": "code",
   "execution_count": null,
   "id": "31d030d4",
   "metadata": {},
   "outputs": [],
   "source": []
  },
  {
   "cell_type": "code",
   "execution_count": null,
   "id": "0d467a2d",
   "metadata": {},
   "outputs": [],
   "source": []
  },
  {
   "cell_type": "code",
   "execution_count": null,
   "id": "f0ee0056",
   "metadata": {},
   "outputs": [],
   "source": []
  },
  {
   "cell_type": "code",
   "execution_count": null,
   "id": "bb287c6f",
   "metadata": {},
   "outputs": [],
   "source": []
  },
  {
   "cell_type": "code",
   "execution_count": null,
   "id": "0e56c247",
   "metadata": {},
   "outputs": [],
   "source": []
  },
  {
   "cell_type": "code",
   "execution_count": null,
   "id": "e263771d",
   "metadata": {},
   "outputs": [],
   "source": []
  },
  {
   "cell_type": "code",
   "execution_count": null,
   "id": "5b8acd34",
   "metadata": {},
   "outputs": [],
   "source": []
  },
  {
   "cell_type": "code",
   "execution_count": null,
   "id": "dc547ad5",
   "metadata": {},
   "outputs": [],
   "source": []
  },
  {
   "cell_type": "code",
   "execution_count": null,
   "id": "6850f22c",
   "metadata": {},
   "outputs": [],
   "source": []
  },
  {
   "cell_type": "code",
   "execution_count": null,
   "id": "33a6ac7e",
   "metadata": {},
   "outputs": [],
   "source": []
  },
  {
   "cell_type": "code",
   "execution_count": null,
   "id": "21909cbb",
   "metadata": {},
   "outputs": [],
   "source": []
  },
  {
   "cell_type": "code",
   "execution_count": null,
   "id": "7780cf19",
   "metadata": {},
   "outputs": [],
   "source": []
  },
  {
   "cell_type": "code",
   "execution_count": null,
   "id": "eefd0fa4",
   "metadata": {},
   "outputs": [],
   "source": []
  },
  {
   "cell_type": "code",
   "execution_count": null,
   "id": "9a53e08a",
   "metadata": {},
   "outputs": [],
   "source": []
  },
  {
   "cell_type": "code",
   "execution_count": null,
   "id": "41bab80a",
   "metadata": {},
   "outputs": [],
   "source": []
  },
  {
   "cell_type": "code",
   "execution_count": null,
   "id": "e319a694",
   "metadata": {},
   "outputs": [],
   "source": []
  }
 ],
 "metadata": {
  "kernelspec": {
   "display_name": "Python 3 (ipykernel)",
   "language": "python",
   "name": "python3"
  },
  "language_info": {
   "codemirror_mode": {
    "name": "ipython",
    "version": 3
   },
   "file_extension": ".py",
   "mimetype": "text/x-python",
   "name": "python",
   "nbconvert_exporter": "python",
   "pygments_lexer": "ipython3",
   "version": "3.9.13"
  },
  "toc": {
   "base_numbering": 1,
   "nav_menu": {},
   "number_sections": true,
   "sideBar": true,
   "skip_h1_title": false,
   "title_cell": "Table of Contents",
   "title_sidebar": "Contents",
   "toc_cell": false,
   "toc_position": {},
   "toc_section_display": true,
   "toc_window_display": false
  }
 },
 "nbformat": 4,
 "nbformat_minor": 5
}
